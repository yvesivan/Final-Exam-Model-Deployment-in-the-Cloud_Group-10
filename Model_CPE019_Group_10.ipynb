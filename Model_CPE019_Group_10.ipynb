{
  "nbformat": 4,
  "nbformat_minor": 0,
  "metadata": {
    "colab": {
      "provenance": [],
      "include_colab_link": true
    },
    "kernelspec": {
      "name": "python3",
      "display_name": "Python 3"
    },
    "language_info": {
      "name": "python"
    }
  },
  "cells": [
    {
      "cell_type": "markdown",
      "metadata": {
        "id": "view-in-github",
        "colab_type": "text"
      },
      "source": [
        "<a href=\"https://colab.research.google.com/github/yvesivan/Final-Exam-Model-Deployment-in-the-Cloud_Group-10/blob/main/Model_CPE019_Group_10.ipynb\" target=\"_parent\"><img src=\"https://colab.research.google.com/assets/colab-badge.svg\" alt=\"Open In Colab\"/></a>"
      ]
    },
    {
      "cell_type": "markdown",
      "metadata": {
        "id": "WUQHSYAH8A15"
      },
      "source": [
        "\n",
        "| <h1> Final Exam </h1> | <h1> Model Deployment in the Cloud </h1> |\n",
        "|--- | --- |\n",
        "***Name/s:** Yves Ivan Borganio\n",
        "Vargas, Leo Glenn\n",
        "**Course and Section:** CPE 019-CPE32S1\n",
        "**Instructor:** Engr. Ryan Francisco\n",
        "**Date Performed:** May 16, 2024\n",
        "**Date Submitted:** May 18, 2024\n",
        "**Group No.:** 10\n",
        "\n",
        "<hr>\n",
        "\n",
        "**Instructions**:\n",
        "\n",
        "*   You can choose any previous deep learning model.\n",
        "*   Follow the instructions on deploying a model using Streamlit App in the cloud.\n",
        "\n",
        "**Objectives:**\n",
        "This activity aims to apply all the learnings for the Final Period.\n",
        "\n",
        "<hr>"
      ]
    },
    {
      "cell_type": "code",
      "execution_count": null,
      "metadata": {
        "colab": {
          "base_uri": "https://localhost:8080/"
        },
        "id": "41z4xJFObeUv",
        "outputId": "741a8393-fcfc-456d-87a6-c462f478c890"
      },
      "outputs": [
        {
          "output_type": "stream",
          "name": "stdout",
          "text": [
            "Drive already mounted at /content/drive; to attempt to forcibly remount, call drive.mount(\"/content/drive\", force_remount=True).\n"
          ]
        }
      ],
      "source": [
        "from google.colab import drive\n",
        "drive.mount('/content/drive')"
      ]
    },
    {
      "cell_type": "code",
      "source": [
        "import os #Its main purpose is to perform operations related to file and directory manipulation.\n",
        "import shutil # This module aids in the automation of the copying and deleting of files and folders.\n",
        "import random #Provides functions for generating random numbers."
      ],
      "metadata": {
        "id": "G5QcaDNeDYFx"
      },
      "execution_count": null,
      "outputs": []
    },
    {
      "cell_type": "markdown",
      "source": [
        "# **Prepare the Dataset (EDA)**"
      ],
      "metadata": {
        "id": "3P17C23JZB0C"
      }
    },
    {
      "cell_type": "code",
      "source": [
        "# We first define the paths of our datasets. We used google drive as our cloud storage\n",
        "source_folder = '/content/drive/MyDrive/SISKO/Multi-class Weather Dataset'  # this folder has the multi-class weather dataset\n",
        "training_folder = '/content/drive/MyDrive/SISKO/Training'  # this is only a folder without files, and will be storage for our splitted training files later.\n",
        "validation_folder = '/content/drive/MyDrive/SISKO/Validation'  # this is only a folder without files, and will be storage for our splitted validation files later.\n",
        "\n",
        "# Define classes\n",
        "classes = ['Cloudy', 'Rain', 'Shine', 'Sunrise'] # These are the classes in the datasets, so we have four classes and we put it\n",
        "\n",
        "# We define the ratio of data to put into training and validation sets\n",
        "train_ratio = 0.8  # 80% for training and 20% for validation\n",
        "\n",
        "# Iterate through each class folder\n",
        "for cls in classes: #This loop iterates through each class in the classes list to make it more organized.\n",
        "    class_folder = os.path.join(source_folder, cls) # We go to the the path to the folder corresponding to the current class (cls) by joining the source_folder (root dataset folder) and the class name (cls).\n",
        "    images = os.listdir(class_folder) # Retrieves a list of filenames (images) within the current class folder (class_folder).\n",
        "    random.shuffle(images) # We shuffled the images to prevent any inherent order or patterns in the data from affecting the learning process.\n",
        "\n",
        "    print(f\"Class: {cls}, Total Images: {len(images)}\") #We print the type of class and the detected total of images\n",
        "\n",
        "    # Calculate split indices based on train_ratio\n",
        "    split_idx = int(len(images) * train_ratio) #The dataset should be split into training and validation sets based on the specified train_ratio\n",
        "\n",
        "    # Move images to training folder\n",
        "    for image in images[:split_idx]:\n",
        "        src = os.path.join(class_folder, image)\n",
        "        dst = os.path.join(training_folder, cls, image)\n",
        "        if not os.path.exists(os.path.join(training_folder, cls)):\n",
        "            os.makedirs(os.path.join(training_folder, cls))\n",
        "        shutil.copy2(src, dst)  # Copy without moving because in google drive, we found out that after transferring the images to training and validation folder, the images in the source is gone and if an error occur We will import again the files which is time consuming\n",
        "\n",
        "    # Move images to validation folder\n",
        "    for image in images[split_idx:]:\n",
        "        src = os.path.join(class_folder, image)\n",
        "        dst = os.path.join(validation_folder, cls, image)\n",
        "        if not os.path.exists(os.path.join(validation_folder, cls)):\n",
        "            os.makedirs(os.path.join(validation_folder, cls))\n",
        "        shutil.copy2(src, dst)  # same case in the training folder\n",
        "\n",
        "print(\"Dataset split into training and validation sets successfully.\") # 1. Prepare the Dataset (EDA)\n"
      ],
      "metadata": {
        "colab": {
          "base_uri": "https://localhost:8080/"
        },
        "id": "c13CwOidr_m8",
        "outputId": "781d33e7-1387-4fba-f0c3-f269b5b8b1d0"
      },
      "execution_count": null,
      "outputs": [
        {
          "output_type": "stream",
          "name": "stdout",
          "text": [
            "Class: Cloudy, Total Images: 300\n",
            "Class: Rain, Total Images: 215\n",
            "Class: Shine, Total Images: 253\n",
            "Class: Sunrise, Total Images: 364\n",
            "Dataset split into training and validation sets successfully.\n"
          ]
        }
      ]
    },
    {
      "cell_type": "code",
      "source": [
        "import matplotlib.pyplot as plt # A helpful plotting library because it easy to plot and has good visualization of dataset we have.\n"
      ],
      "metadata": {
        "id": "jDUkfQeUDn3w"
      },
      "execution_count": null,
      "outputs": []
    },
    {
      "cell_type": "markdown",
      "source": [
        "#**Create a Baseline MLP Classification Model**"
      ],
      "metadata": {
        "id": "L4jZWxssbHJo"
      }
    },
    {
      "cell_type": "code",
      "source": [
        "import tensorflow as tf # Provides tools for building and training machine learning models, including deep learning models. we define it as tf so it can be easy to call.\n",
        "from tensorflow.keras.preprocessing.image import ImageDataGenerator # We can leverage TensorFlow and its Keras API to build, train, and evaluate deep learning models, particularly for tasks involving image data.\n",
        "from tensorflow.keras.callbacks import EarlyStopping # It can help prevent overfitting by stopping training early if the model's performance on a validation dataset starts to degrade."
      ],
      "metadata": {
        "id": "TFeWnP--DPol"
      },
      "execution_count": null,
      "outputs": []
    },
    {
      "cell_type": "code",
      "source": [
        "# We define data generators for training and validation with data augmentation\n",
        "train_datagen = ImageDataGenerator(\n",
        "    rescale=1./255, # Pixel values are rescaled to fall between [0, 1].\n",
        "    rotation_range=20, # Rotate pictures at random between -20 and +20 degrees\n",
        "    width_shift_range=0.2, # Images can be arbitrarily shifted horizontally by up to 20% of their overall width.\n",
        "    height_shift_range=0.2, # Images can be arbitrarily shifted vertically by up to 20% of their overall height.\n",
        "    shear_range=0.2, # Use shear transformations with a 20-degree maximum shear angle.\n",
        "    zoom_range=0.2, # Zoom in on pictures at random up to 20%\n",
        "    horizontal_flip=True,  # Flip pictures horizontally at random\n",
        "    fill_mode='nearest' # Method for filling in recently formed pixels following transformations\n",
        ")\n",
        "\n",
        "validation_datagen = ImageDataGenerator(rescale=1./255) # Pixel values are rescaled to fall between [0, 1].\n",
        "\n",
        "# We set the batch size as we prefer\n",
        "batch_size = 32\n",
        "\n",
        "# Load training and validation data\n",
        "train_generator = train_datagen.flow_from_directory(\n",
        "    '/content/drive/MyDrive/SISKO/Training',\n",
        "    target_size=(150, 150),\n",
        "    batch_size=batch_size,\n",
        "    class_mode='categorical'\n",
        ")\n",
        "\n",
        "validation_generator = validation_datagen.flow_from_directory(\n",
        "    '/content/drive/MyDrive/SISKO/Validation',\n",
        "    target_size=(150, 150),\n",
        "    batch_size=batch_size,\n",
        "    class_mode='categorical'\n",
        ")\n",
        "\n",
        "# Define EarlyStopping callback\n",
        "early_stopping = EarlyStopping(monitor='val_loss', patience=5)\n",
        "\n",
        "# Define CNN model\n",
        "model = tf.keras.models.Sequential([\n",
        "     tf.keras.layers.Conv2D(32, (3,3), activation='relu', input_shape=(150, 150, 3)),\n",
        "    tf.keras.layers.MaxPooling2D(2, 2),\n",
        "    tf.keras.layers.Conv2D(64, (3,3), activation='relu'),\n",
        "    tf.keras.layers.MaxPooling2D(2,2),\n",
        "    tf.keras.layers.Conv2D(128, (3,3), activation='relu'),\n",
        "    tf.keras.layers.MaxPooling2D(2,2),\n",
        "    tf.keras.layers.Conv2D(128, (3,3), activation='relu'),\n",
        "    tf.keras.layers.MaxPooling2D(2,2),\n",
        "    tf.keras.layers.Flatten(),\n",
        "    tf.keras.layers.Dense(512, activation='relu'),\n",
        "    tf.keras.layers.Dense(4, activation='softmax')\n",
        "])\n",
        "model.summary()"
      ],
      "metadata": {
        "colab": {
          "base_uri": "https://localhost:8080/"
        },
        "id": "9CpxMSzdwnr3",
        "outputId": "635e8fd8-cf60-42b1-f084-aee858ac1237"
      },
      "execution_count": null,
      "outputs": [
        {
          "output_type": "stream",
          "name": "stdout",
          "text": [
            "Found 1120 images belonging to 4 classes.\n",
            "Found 543 images belonging to 4 classes.\n",
            "Model: \"sequential\"\n",
            "_________________________________________________________________\n",
            " Layer (type)                Output Shape              Param #   \n",
            "=================================================================\n",
            " conv2d (Conv2D)             (None, 148, 148, 32)      896       \n",
            "                                                                 \n",
            " max_pooling2d (MaxPooling2  (None, 74, 74, 32)        0         \n",
            " D)                                                              \n",
            "                                                                 \n",
            " conv2d_1 (Conv2D)           (None, 72, 72, 64)        18496     \n",
            "                                                                 \n",
            " max_pooling2d_1 (MaxPoolin  (None, 36, 36, 64)        0         \n",
            " g2D)                                                            \n",
            "                                                                 \n",
            " conv2d_2 (Conv2D)           (None, 34, 34, 128)       73856     \n",
            "                                                                 \n",
            " max_pooling2d_2 (MaxPoolin  (None, 17, 17, 128)       0         \n",
            " g2D)                                                            \n",
            "                                                                 \n",
            " conv2d_3 (Conv2D)           (None, 15, 15, 128)       147584    \n",
            "                                                                 \n",
            " max_pooling2d_3 (MaxPoolin  (None, 7, 7, 128)         0         \n",
            " g2D)                                                            \n",
            "                                                                 \n",
            " flatten (Flatten)           (None, 6272)              0         \n",
            "                                                                 \n",
            " dense (Dense)               (None, 512)               3211776   \n",
            "                                                                 \n",
            " dense_1 (Dense)             (None, 4)                 2052      \n",
            "                                                                 \n",
            "=================================================================\n",
            "Total params: 3454660 (13.18 MB)\n",
            "Trainable params: 3454660 (13.18 MB)\n",
            "Non-trainable params: 0 (0.00 Byte)\n",
            "_________________________________________________________________\n"
          ]
        }
      ]
    },
    {
      "cell_type": "markdown",
      "source": [
        "# **Train the model**"
      ],
      "metadata": {
        "id": "q9wrLO4mbbFD"
      }
    },
    {
      "cell_type": "code",
      "source": [
        "# Compile the model\n",
        "model.compile(optimizer='adam',\n",
        "              loss='categorical_crossentropy',\n",
        "              metrics=['accuracy'])\n",
        "\n",
        "# Train the model with EarlyStopping callback and verbose=1\n",
        "history = model.fit(\n",
        "    train_generator,\n",
        "    steps_per_epoch=train_generator.samples // batch_size, # Number of steps per epoch\n",
        "    epochs=13, # Number of epochs for training\n",
        "    validation_data=validation_generator,\n",
        "    validation_steps=validation_generator.samples // batch_size, # Number of steps per epoch\n",
        "    callbacks=[early_stopping],  # Include EarlyStopping callback\n",
        "    verbose=1  # Display training progress\n",
        ")"
      ],
      "metadata": {
        "colab": {
          "base_uri": "https://localhost:8080/"
        },
        "id": "DWAV_a6Gh5cA",
        "outputId": "41b1115c-5d00-4bde-8331-69b57cffe7ee"
      },
      "execution_count": null,
      "outputs": [
        {
          "output_type": "stream",
          "name": "stdout",
          "text": [
            "Epoch 1/13\n",
            "35/35 [==============================] - 202s 6s/step - loss: 0.8118 - accuracy: 0.6491 - val_loss: 0.7249 - val_accuracy: 0.7266\n",
            "Epoch 2/13\n",
            "35/35 [==============================] - 77s 2s/step - loss: 0.5837 - accuracy: 0.7884 - val_loss: 0.5506 - val_accuracy: 0.7969\n",
            "Epoch 3/13\n",
            "35/35 [==============================] - 74s 2s/step - loss: 0.5076 - accuracy: 0.8071 - val_loss: 0.4415 - val_accuracy: 0.8340\n",
            "Epoch 4/13\n",
            "35/35 [==============================] - 77s 2s/step - loss: 0.4366 - accuracy: 0.8438 - val_loss: 0.3738 - val_accuracy: 0.8652\n",
            "Epoch 5/13\n",
            "35/35 [==============================] - 83s 2s/step - loss: 0.3912 - accuracy: 0.8598 - val_loss: 0.4601 - val_accuracy: 0.8535\n",
            "Epoch 6/13\n",
            "35/35 [==============================] - 81s 2s/step - loss: 0.3782 - accuracy: 0.8625 - val_loss: 0.2903 - val_accuracy: 0.9023\n",
            "Epoch 7/13\n",
            "35/35 [==============================] - 73s 2s/step - loss: 0.3410 - accuracy: 0.8786 - val_loss: 0.2301 - val_accuracy: 0.9023\n",
            "Epoch 8/13\n",
            "35/35 [==============================] - 76s 2s/step - loss: 0.3347 - accuracy: 0.8768 - val_loss: 0.3482 - val_accuracy: 0.8574\n",
            "Epoch 9/13\n",
            "35/35 [==============================] - 84s 2s/step - loss: 0.3646 - accuracy: 0.8589 - val_loss: 0.2890 - val_accuracy: 0.9004\n",
            "Epoch 10/13\n",
            "35/35 [==============================] - 74s 2s/step - loss: 0.2901 - accuracy: 0.8964 - val_loss: 0.2300 - val_accuracy: 0.9043\n",
            "Epoch 11/13\n",
            "35/35 [==============================] - 72s 2s/step - loss: 0.2612 - accuracy: 0.9054 - val_loss: 0.2006 - val_accuracy: 0.9277\n",
            "Epoch 12/13\n",
            "35/35 [==============================] - 75s 2s/step - loss: 0.2536 - accuracy: 0.9125 - val_loss: 0.2231 - val_accuracy: 0.9082\n",
            "Epoch 13/13\n",
            "35/35 [==============================] - 77s 2s/step - loss: 0.3013 - accuracy: 0.8929 - val_loss: 0.3205 - val_accuracy: 0.8906\n"
          ]
        }
      ]
    },
    {
      "cell_type": "markdown",
      "source": [
        "# **Evaluate the model**"
      ],
      "metadata": {
        "id": "6PmDiSG5boKd"
      }
    },
    {
      "cell_type": "code",
      "source": [
        "import matplotlib.pyplot as plt\n",
        "\n",
        "def plot_history(history):\n",
        "    # Plot training & validation accuracy values\n",
        "    plt.plot(history.history['accuracy'])\n",
        "    plt.plot(history.history['loss'])\n",
        "    plt.title('Accuracy and Loss')\n",
        "    plt.xlabel('Epoch')\n",
        "    plt.ylabel('Accuracy')\n",
        "    plt.legend(['accuracy', 'loss'], loc='upper left')\n",
        "    plt.show()\n",
        "\n",
        "\n",
        "# Call the function to plot the training history\n",
        "plot_history(history)"
      ],
      "metadata": {
        "colab": {
          "base_uri": "https://localhost:8080/",
          "height": 472
        },
        "id": "kDy-XTwTpdRQ",
        "outputId": "a1d5112f-dc15-4034-88cd-42b7da3f7001"
      },
      "execution_count": null,
      "outputs": [
        {
          "output_type": "display_data",
          "data": {
            "text/plain": [
              "<Figure size 640x480 with 1 Axes>"
            ],
            "image/png": "[encoded data removed]"
          },
          "metadata": {}
        }
      ]
    },
    {
      "cell_type": "code",
      "source": [
        "# Evaluate the model on the validation dataset\n",
        "loss, accuracy = model.evaluate(validation_generator)\n",
        "print(\"Validation Loss:\", loss)\n",
        "print(\"Validation Accuracy:\", accuracy)\n"
      ],
      "metadata": {
        "colab": {
          "base_uri": "https://localhost:8080/"
        },
        "id": "0goM4cvzpp_c",
        "outputId": "098d5b47-e132-49d7-ed5f-65d44d7a41c4"
      },
      "execution_count": null,
      "outputs": [
        {
          "output_type": "stream",
          "name": "stdout",
          "text": [
            "13/13 [==============================] - 9s 709ms/step - loss: 0.2716 - accuracy: 0.9064\n",
            "Validation Loss: 0.27158787846565247\n",
            "Validation Accuracy: 0.9064039587974548\n"
          ]
        }
      ]
    },
    {
      "cell_type": "markdown",
      "source": [
        "The adjustments that we did is we lower the epoch because we observed in the last midterm exam, the progress of the training of the model was stopping early due to the EarlyStopping callback with a patience of 5. That is why we selected our optimized value of epoch resulting a satisfied accuracy of 90"
      ],
      "metadata": {
        "id": "Agc5OC_yCRkT"
      }
    },
    {
      "cell_type": "code",
      "source": [
        "import tensorflow as tf\n",
        "from tensorflow.keras.models import load_model\n",
        "\n",
        "model.save('/content/drive/MyDrive/Group 10 Models/Weather_Classification-Model.h5')"
      ],
      "metadata": {
        "id": "E-E2LJrhQV02"
      },
      "execution_count": null,
      "outputs": []
    },
    {
      "cell_type": "markdown",
      "source": [
        "This is the code in saving the model in .h5 file"
      ],
      "metadata": {
        "id": "pjG_5W_ZcD0B"
      }
    },
    {
      "cell_type": "markdown",
      "source": [
        "![image.png](data:image/png;base64,iVBORw0KGgoAAAANSUhEUgAAAOEAAAECCAYAAAAIFLDiAAAAAXNSR0IArs4c6QAAAARnQU1BAACxjwv8YQUAAAAJcEhZcwAADsMAAA7DAcdvqGQAACZSSURBVHhe7Z0LuFRVGYaXCopd1NRUDLUCigjQMJSLFyBERVHCEiQVQZBCAgS7QShlKpgXIPFChoJCIJWKeaG0ENBIwhQDVMqwtNDKEIu8UOb7sxdshpk5c87MnLXmzPc+zzznnD23vffZ3/rXWnvm3bt07NjxHSeECMKvfvUrt2vyuxAiEAqhEIFRCIUIjEIoRGAUQiECU9bZ0U984hPus5/9rHvve9+bLNnK//73P/fLX/7S/eIXv0iWCFGdMDta1hB+7nOfc5/61KeSv3aEIP7ud79zf//735MlO/KnP/3J/f73v3fvvFP31TvggAPca6+95t58881kiRBxETSENUFIf/rTn7pf//rXyZLsnHDCCa5r167uhhtucC+99FKy1LmDDjrIffnLX7aN5HWEiJGozxPuuuuu7pBDDkn+qj0bNmxw48ePVwBF9OxUCXfZZRe3//77u0aNGiVLdoTu4auvvureeuutZEluiqmE8Nvf/tb96Ec/Sv7azumnn24VcI899nCvvPKKrfP06dPdwIED3Z577un22Wcft2DBAnfiiSe6Rx55xB199NHuueeec/Pnz3cdOnRwZ5xxhps1a5ZVS17rfe97n23TnDlz3FNPPZW8ixDlJ2slJGSHHnqou+CCC9yIESN2uA0fPtxC9fbbbyePrn8OO+ww16VLF7d8+XI3cuRI9/LLL7vddtvN7mvcuLGNMS+++GL3hz/8wZaxPWvWrHEf+9jHrLq2atXKbdy40W3evNn16NHDKuWFF17o1q9f73r16mXPEaI+ydodXblypR2c6WrHGO2xxx5zDz74YFGTJcXSvHlzawQWL17s/vOf/7i1a9e6LVu2JPc699e//nWniRhCuPvuu9tsLV3cp59+2kK53377ubPOOsvGk0ceeaR7//vfb8uEqE9yjgnTQYwlgHXl2Wefdf/617/cu11v16RJEwsl/OMf/3CXXnqpO//88+02btw4WyZEfZJ3YoYg3n333XZOL5YA0s2k28mMKOM/qluu8auHRoQgHnHEERayP/7xj+7555+3MWX37t3tZ+fOnW2cKUR9U+PsKBMVnFSPpQK+8MILbsmSJVbVpk2b5g488ED33//+N7k3N2wH3VcmaIAw33fffa59+/bWHT3zzDN36NYKUV9Ee54Qcs2OCtFQKPt5QrqBxfD6668nvwnRcClrCEn5n//8Z+sG1vZGd/Hxxx9PXkmIhktZu6NCiPxE/bE1IaoFhVCIwCiEQgRGIRQiMAqhEIFRCIUIjEIoRGAUQiECoxAKERiFUIjAKIRCBEYhFCIwUX+AWwZv0dDhA9xRhzC0wbtYZAAXNVHRIawJQoqoKtPg/aEPfciNGjXKlBjXXnut+9vf/pbc48zYjYXtpptucqtXr06Wbsc/1xvZ+N4j6sW5c+fu9AVmGcBFITTorzLlM3hTHffee2/r7nrwmXIrhEWLFpmdDfXGpz/9aff5z38+uWc7MoCLQtmtWbNmE5PfSwI27A9+8IN2kOPxzLxhu0ajWIicqXXr1q5p06bJX7WHIHi9oWevvfYyxyjqDCoaLREgAqbSUdEwsw0bNsxCvGrVKrOwDR061CwBn/zkJ91f/vIXq5QIgxmvtmnTxv3mN78x6XDPnj1d37593b///W8TKGOCGzBggG0Hz8EAjrSY62bwfmPHjnX9+vUz6xvdVl5TVA9DhgwpfSWkysRs8PasW7fOGguqIQ0DQSJ8hJBuJuFt0aKF3Ye1m24rYuFMNm3aZEGj0amNAZxA9+7d2z3xxBNmAKfb3K1bN8mHq5CydEdjNngDoWHdCFC7du0sGKj0CaGHCoi1G1cpYcXaXQiFGsDp+qJrpMqiXKQSU6UVwuqjbGPCmA3edJm5odAngEcddZRVp3/+85/JI7Zauwlpx44dbf2ffPLJ5J4d2Xfffa1rzSxoLnitbAZwKi7uVG8AHz169DYvqqgeyjoxE6PBOw1eU8Z0VCjGdGkIHtWQbiTVLT2LCnQt6T526tTJxnqELBe8FkFMG8AZr1Ixjz/+eBsrH3744e7UU0+11xXVRdn/47EZvNNg82bsxmXRGJtl8swzz9h9macruOTa97//ffsgAVpGLsNWE5kGcMLI7GqzZs3cddddZxNBVEkCK6qLBnueEIo1eHPtwrZt27opU6bkrXRC1JXozxMWWxWKMXhzop1JE2YtFUBRTqKuhJxboxpx5eDawrm8u+66a4fJFiFiI/qPrQnR0GnQH1sTolJQCIUIjEIoRGAUQiECoxAKERiFUIjAKIRCBEYhFCIwCqEQgVEIhQiMQihEYBr0Z0clDxax0+A/wB1CHrzPPvuY7qKYr1GJ6iHqEFK9OJjfeOONZEntKYc8GBA/DRw40NQXuGrQX8yfP9++gT9hwgT34osvultvvTV5tBC5ifpbFM2bN3dnnnmme8973pMsqV/yyYP79+9vKsTJkye7MWPGmAKDdWXZZZddpgCKWhH1xMxHP/pR94UvfCFYELPxkY98xKS9jz76qPlp6Hb+/Oc/t27tBz7wAXfppZdaIIFKfOONN5qPZuLEiQUbvkV1Ef3s6Ic//OGogsh6UCX55r6Hbuj3vvc9E/p66KqiyJ83b54bN26cda2L8eWIhktFnKIgiFzvAUFvpUBI8ZbSdcVGzmzswoULk3uF2E5FhBA94M9+9rOCrl9RbjZv3myTNgcffHCyxNn1KRBDpceQyKEmTZrkpk+fboGkEcGXI0Qm0YeQAP7whz/Meh2IECDufeWVV1yXLl0sdIh7P/OZz5iMKi2VwurNJA3dV7SLBLEuwirR8Ik6hEx2xBRAz+23325XXbrkkkvsGoeE684779xBjYjRm3ONgwcPtsfsueeeVs2FyCTa84RcLIVuX6Z+vjaElgcLURNRnyd8+eWXiwogEOJi0KdeRH1QERMzdYVWhtMGXAOitjfOAXKdCSHKjeS/QgQk6u6oENWCQihEYBRCIQKjEAoRGIVQiMAohEIERiEUIjAKoRCBUQiFCIxCKERgFEIhAqMQChEYGbiFCEjU8t9SEMLAnQs0iDQK3/rWt5IlDR+8O/vuu29VbXNtifpbFFSvJk2aJH+VHrSF7dq1c927d896O/fcc80Tkw0M3BdffLGbMWOGOUW//e1vm+ypWAgq3tJ8nHDCCW7q1Knu2GOPTZZsXXb55ZebD7VYClkHUVqiDWGlGrjrgz322MOddNJJ1hgUCgElqARWxMVuzZo1m5j8HhU4Zjp37mzO0Weeeca9/fbbyT2F07p1a9e0adPkr9qzYcMGt2bNmuSvrWDg7tatm3vkkUdM5vTWW2+ZBoP1feGFF+z+sWPHun79+llFbdy4sXvuueesUhIante7d283fPhw0yDymNdee82uX8FjPv7xj7tevXq5vn37ulatWrmnn37a3sND44RusVGjRnbxmaeeesqWsZ9WrFhhjxk5cqQbNGiQO+WUU7ZZvy+88EIzhPP6b775pqlD0o8jpDh12GfZ1mHLli3mTx06dKipG1lX7APIrdgfo0ePtu7/cccdZ8swGhx99NEmuFq6dKm9/4knnujWrl1ry2m8zjjjDHfMMceYvQ6dSTUyZMiQ+GdHK8nAjfKQA5dAMR56+OGHXdeuXd0RRxyRPHJrFWOcOXfuXDugOcBRJnoICN1NnKX77bffDvd58K9yYLdt29YdeeSRydKt9OnTx+xvPH/KlClWzVu0aGF/06j8+Mc/Nm0/j0OmjB38lltuscaDRg+yrQMBwio+c+ZMs8wxVCB0hPzkk0+2BoltZntOO+20bV1jLpjzpS99yb3b2LvZs2fbWJyGh8aIYLIfCWU1UxGnKCrFwM0BT8g4wPDUMANLVWD9PRzg6BIHDBhgY0oO/PR2cR8VhttLL72Us0v8xBNPmAOVikVV9BAKqiPPpwdB5Um/v4frfBAqgkZICJv3omZbB0JKpce7g4KSqktlZ1xNL2Xx4sW2zUuWLLGg8Xg46KCDXMuWLa3R4fl4ZAke3WIaAHoJs2bNssdWKxURwkoxcB9wwAHJktxwUPbo0cMOYirBokWLknt2hiqSDy7dxgRWXSeFHnroIXf++efbjap89913J/dsp6Z1qAnf6NBY0IMALpJzzTXXWA+CfcFl5qqZ6ENYSQZuKg8H3fHHH29jIcZKTNasX78+ebazqsXBSIXca6+9dqp0hIoxnh/7pS8ykwmVZdmyZdbd9NWQZYcffrg9n/Ecp0XS7++hy8zjeAwVjfGZHz9nWwe2myrLjDGP69Chg40rV61aZeNeut1sM2NCto/HA5NWVHy2lQktXhMzOet8zz332JibKlzNRD0xw8GB2bquASzHxAxw/pDqw/iPsRKVkfXkwGNcyGQDBzXjILqkdNF4PNtz77332gRJz549bWwEjBEZU9Ft4zEc0NwIyoIFC3aamPGTMEwIsS48j8aAC5rSFWW7GfMx1lq3bp29BmHgKlF0f2koqMA8jkkiGhF6GZyzyrUOvltLRePxBJDGkfuZtGFbeM+9997bKir7zU/MEDa63DRcrA/bw+wuY0fG2D/5yU+qemJGBu48yMAtyk3UJ+tl4BbVQkVMzNQVWhkZuEXsyMAtRECi7o4KUS0ohEIERiEUIjAKoRCBUQiFCIxCKERgFEIhAqMQChEYhVCIwCiEQgRGIRQiMJL/ChEQPjsq+W89yX+FyEbUIaR68W3vN954I1lSe4r5Ui8hxeHCt9WFKBdRhxCLF6pAvtmOXKkulOOb9aj8Ro0atYMXBdsYKkE0Fuedd56tN96VjRs3mrrhscceMzkwKow0VNu0Ih4DGVoM3vfmm29Olm5/T4RJxSrleS2cp9jRUB/mgn3nvakY12699Vbz14jSEv1XmdDyxeQcTYOjxZvKvvjFL9oBjXMG1d8PfvADM6nh4MS74gW8SKtwdvrnZQsU3V8ej+fFQ4OEu6W+QIWIH4aeAFpCHDI4YUR5iH52FLlQrEFMg1WNiSCqGNImZEooBal2iJ0KBRs3tjKkTMDvVNa06gNpFNe/4DoYN910k103A6i2qO5vuOEG+x2b2lVXXWVyX0TA2N8AjSFVl+dff/31O6nxaQSQMSGN4n3pkqNzrC/Nf7VREacoCGJs8l+6llQ8blxAhUrF+mE189CN4yB/8skn7W+6sISH5xCebNeFYBzMhBDBI4Dt27c3XWBaW0gYCMaIESPcHXfc4dq0aWMNANB9xOl5//33W2V+/vnnzYmKLBjHJ+p8XhfpLhp8fmYasDGoITEmxFjceG3esz6rcTVRESGMSf7rSXdHCx2npbujvgubCXp5gsPB78OF53TTpk3JI7aqGPF+EnCuJYFWkGCBt2dTzVjOmANnzvz5860iUmnZj4zvWM5rZTZu6A2XL19uOkQCTePBuJznitITfQhjk//mwh/cXI/PwyQI1Sp9LYqaIEyY5ggdQWN8hlQ4DRdwobtIoK+99loLU03QPcaLWugpFyak0ONzERi09YQbYbEoPVGHkHN4lRBA4ABFbMsFWujG0Z1DknvooYeaELi2MB6jK0ooGWOmwbZNCJl9pVLSBc3EV7pOnTpZRcR+TVeY7mihsA182IGrNNGdFeUh2hBSDehCxRrA9JjQj++wcNMVpIJMnz7dZjWxUfup/fSY0I8lc0HwqK5UwUz/Khec4ZoW06ZNswkczmlmTlzRKHB6hBlmrhjVsWNH69IT3EJg8ufqq682pb8+XVReGvQnZpiYyLx0WG3gvF++C7YIUSzRnycsFjZQ8l8ROw26EgoROw2+EgpRCSiEQgRGIRQiMAqhEIFRCIUIjEIoRGAUQiECoxAKERiFUIjAKIRCBEYhFCIwCqEQgWnQH+DmC68ycIuY4QPcDTqEMnCL2Ik6hLEauOtD/ut1Fbwu7tLZs2fbN+PT9+GMoZrzvqwrSg3eAzUh+80/7/XXX7fHe3gMPQTeN9864T0dOHCgOW5QJGI4wHTAN+4znwPpbWE7evbsaUpFbG7A6+Crefjhh81j2rVrV1MzdunSZdvrsR3+fVavXr3T/gCcQ1OnTrXHIbniS9u77777Dvu6kiCEuzVr1mxi8ndUcKDgaMHbwsFYF1q3bu2aNm2a/FU7OPAwjK1ZsyZZshX0gwRi6dKl7sorr3QLFy60sGJI46Bu1aqVmzNnjhmrCcRxxx1nB+K7+9n8o5MmTTJNIc9DU5GmefPmJg9GjYEZjS8ko5fgeegq/H0zZ860Cs1rU8lZVw5IDkw8o3wh+dhjj3X777+/uWrSECICxnvze651wgiHj4agcHDz/0ClMWvWLJNArVy50pax7dddd90O20LwkVTxf/OSKtbnwAMPtNdCzYHGcsWKFebg8euAfgOfTefOnc34xnqm9wfrh6GO12df0/DMnTvX9sfBBx/sjjnmGPs/1MXpE4ohQ4bEPTETs4E7k1LJf9MQIPw0mXImKgYuUwwAvLa3ud111112gPI8KjjVJ12xC4UDn4r/6KOPWqB5TQ5+Al/ItuDEYbvZHx5+Z1mmLycN991+++1WKfMZ6tjXNCCEmO1kXxNQQt+2bdvkUZVD9LOjsRq406KnUsp/01BVDznkkJ3kTBjYOEixqNHq03XnQOT9PCgTWR8qdz6yrRP7mvdAdeihe4gwiupcCNjZ2CeEjxvh5TVqgiASJj+ZxjaOGTNm276mAmbb1zwPA10lCoor4hRFjAbucsl/0wcdPxH/YmxL38dYC/colSpTh5iG/ZVNh5imkHWqC3QnqdQMCbjhLfWNUW3gNXCr+n2N0S4fjA8rjYoIIQdKbAbuTEol/00fdExkoB30kyv+vu9+97s2RvRWbg5wHKG8n4cKSGWgQjLW9IbuQmAsTJeXcZaH7h86fSpzIbB+jM8Y43Hjd5bVBNvAtrBNuci2rxk/EsB83d1YiT6ElWLg5gArpfw3H0x20LVjsgNdPhWGkDGTyN+8P9eXYEKI0HCFKCYtOFAZJ9Y044ypmwrMzCXP5zXZFiZ6arMtjE3p7nLLnCDKBpNo/fr1s23JVzXZ12w/E2RM4rCvTzvtNKv6zApXGlGHMGYDd3pMWA75b00w6UPLf+qpp9pYkP3E7COVkvfnPf2U/bPPPusGDBjgrrjiCnsOM5qeXOvEBAnVyKv2CSDbV0g183AelkaUG7/nwq8DN8aCvLcf32aOCZn9pVouWLDAXvPss8+2fc24k33N/q80oj1PyAFFl6iY7kU5LhIqRCmJWnmIBr/Y/j0hLgY/FhOinFTExExdoZWRgVvEjgzcQgQk6u6oENWCQihEYBRCIQKjEAoRGIVQiMAohEIERiEUIjAKoRCBUQiFCIxCKERgFEIhAqMQChEYGbiFCEjU8t9SUN8Gbjyj+E/wutQGvik+fPhwt3jx4pKJljyoHzCQoasQ8RF1CCvNwI2ICr8MOzWtjyiEXCHMNGQTbnQVCG8L/cIy3hlEvFOmTHEbNmxIlhYPOg+MbzhAEUr59cITk94/rKe3aqNuzGUvT2/3YYcd5rp3726CrGXLlpnKAnDdDBs2zMRRHBuYDzDPcaz45cB3QZEUZ2pRclnFC1Exlouov8qEIYyDMJRvFNlQPrNYWnmIKhCfy/jx42sdwJpIKwlRbWDBzqahzwUH+Ne//vU6BZD9n82DQzhYBwKCRIrw0QCl18vvn3HjxlnvgNfCF5O+z++7dABpkFiOSY0vVxMWj5dNYevGcN6yZUsTPfXq1Wvbcm48Fzt5Jv3797dGY/LkyeatwVvKerEsJFFPzFSSgZuD5/LLL7cKwT8WIRE3WmqW07oTbMREqOXRuqPR9613ITCGxXZGReB9eD4VDhUhhjXej9dlWe/eve05PI73Z/0yH9OtWzd7TLblvCahwhaXGUQej26RhofqTBiR/TZp0iR5xHZQlKxatco1atTI1rsmEDzR6FxzzTUWwjQ0itxPpaOHgn4ELSPLaPxYzi1TlgzFWsXLSfSzo7EauGuCVv/BBx903/nOd0zCS7eYsRm2MuxgVBACReteKGgLUeJ79w3mNCxrVIW+ffu6F1980cLDRVe44Erad8r6EEzCwntzEBM2DmyeixeU53J/jx49rLpRsdIXevHgNGXd011iDGlo+DMheDhLUdv79SbcmXa3YqAR4AZoGnnPTMViKazi5aIiTlHEaOBOH0gcvJnQiqMaRD3I7wSGA5eKgJKQakgVrGmb0kpCGiOco4QDGC8TPILEBAwXZeG9mPkl7Ow3D1UAgx2VkfcmaISJGWQCytiE5zJGoiLWxi+aDb9/0CUyTqRq+sqW7o4Wai8vhPbt27s+ffrY9rOf+L+wDigpuS9WKiKEMRq40wcSrWkhcMB37NjR3XvvvW7o0KEFaeHTY0LCe/PNNxc8KZMJIZg2bdq29R49evQ2v6eH7iXy33zvQVeULhyVxXPOOefY6SCP3z9s59e+9rWC5L/FwBwCAaS7ybEC/F9YB8adVEq2qRireLmIPoQchJVg4C4EqiFQpahMzNaVArpThIfLqFHV6GYy2bB+/frkEVtFyv4xdNcY1yEO9ja6Tp062XOZvKDy+hlMJkbSYQO6cXSLCR33MTlC17eYmexCYF3ZbwQOwzjbQfeS8TZho/r563ZkUpNVnMu1sYybH79zObvMbS8HUYcwZgN3XUDRjpqeafJvfOMb1jWlG1kshJruHgcNrT8HF6c70pWWyQpmV3kM1xNkSp+JFD/BwiQYz6VSU0lo/DjAaSgmTJiQvMpWuAjNAw88YBp+Jp6YbOJ0ge8m10S6K1/I1ak8jHU5JpjtHTRokF12gFMjBJKuNtvtX5eJJgKbJp9VnOsEUs1ZN3ocNFYXXXSRnd4pNzJw56EhGLi5RgMHKQEr5XlCURqiPk8oA3fxcKqEGVEmbxTAeGnQH1tjVu7000+3bkdtoSvGlHuxs4RC5CPqj60JUQ1E3R0VolpQCIUIjEIoRGAUQiECoxAKERiFUIjAKIRCBEYhFCIwCqEQgVEIhQiMQihEYBr0Z0cl/xWx0+A/wC35r+S/sRN1CCX/jVv+68GWhhYRkADTsM2ePbviv4tZX0T9LQrJf7cSo/w3EzQarB+qCvws5557bnJPHNDIeSdsjDRKfkaJl//OmTPHbd68OVkaJ+lqhomMsAC/0xWcMWOGiYoGDBhgYiSkT5gDbrvtNnOcFAJjWLwuyIg4oLp3725yJmS2S5YssX2FfZrXw8eC1Y3H4SBFc8iXm9OPueeee2xsjPQpc3mbNm22eUsJ4sqVK81qje2N98sGRjW6vieffLLJdtE9YlujN4LaEQUkzz/vvPNMX4JykfWn2w8tWrSwas/70yNgO9Paexw9VFleP9v+5f3o/eCawd+DSY79wrwAjTm9Av8ctpmf/L/wzIQk+tlRyX+3E1L+SyjQJeYKoIfKzfby/6Ji+yqEwY2Q++0lJFOnTrVGiHVgLD1y5Ejz+uDEARSGXm9Pd5rHYYiDbPuXa0wQznnz5pl+n+ASdJ5PTyB9zYvGjRub5Tt0AKEiTlFI/hte/kuF4r1qA5WN9504caLdeH+vefQ6e7SMBJDfeX8aGL9P6NpSXbmP7V67du22bcq2f1GSYI9D23jBBRfYfli4cKE9PhOsazU1KPVFRYSQ1lXy33jkv/lArstz/fCBEPn344YisVzQ8FD16GkQSBpuHEOxE30IOQgl/81Pfch/qbQ4S/NBV5BKy2sSZN6fsSFjYJ6PfhHrdaFQ5VhPJulatWpljVh6mzI56qij3GWXXWZdYSaxCGIhki+2i/Vjm/m/FLKtpSTqEEr+WxiEutzyX8LFmI1AZMLYk+7y4MGDrYvH5Ancd9991o1ktvT666+360GwroWCTdvLfqnahDvf7DNSYsawrAdyXxoVtoXjh+1kYobtSIN5e8SIETZe7tevn0mF821rOYj2PKHkv6VB8t+4ifo8oeS/xSP5b2XQoD+2JvmviJ2oP7YmRDUQdXdUiGpBIRQiMAqhEIFRCIUIjEIoRGAUQiECoxAKERiFUIjAKIRCBEYhFCIwCqEQgVEIhQhMg/4AtwzcInYa/Lco6tvALbLD9xppELG2iR2p6hDWBCHNZuAGvqeIosLrD1599VVTBCI1qg9wvrBdGNNQ78+cOdOtXr3a7sMvw3coccywXjhbM9cLjyjOTaRRGMw86B14floNWBM4Y9gXs2bN2rYOmSiEudFXmfKQz8B91llnmUwIIdKYMWPMWEbg02r8coJTlAMbbV+6UvP+BBN3KBpG1qtXr17JvTvC+rdu3Tr5y1lo03+L+mO3Zs2aTUx+jwLsXsiFEOViBcu8cbBwzYNC9IccVFStuoISYs2aNclfW8EehrEMkRIOGtaFrivrjUYCgxmWbULJWBSZ09ixY63KYMxGOovsiZDgfnn88cfN8IXMCN8m1RUd4imnnGLKPq5vgbkMN6eHvx966CELITYyKh0qEGRNyJQeeOABMwPgFUWIi58zreogxLweHh/M2mzDuz0is27zO7ImZMBURQRLbAv2bSRNyJaQENP4IE5q2bKlbSP7AjkUvk/Wn2qMVxW5FY/hf4oXldf0z+V1sGejMqlWhgwZEl8lpGXnAiP8M7FgpW9o5umGcQGWUFBBqJIc5B5sXqjbvRPH253vv//+Gs3Y2UCNiIT3yiuvNBtbz549k3tKB2HifQgtoCtkGSEExLvo5jGYse6ECWkUQl9sZIQUIxnjakII+YzbQKWmISKMWMDZh962Xc1E2R2ldWY85g8IYIzGFYlQn8cyWcIBd9VVV5nuD5uZd2p6u3MhZuxseLM2r0GVQ6hbamhMqOBUUgKHXn/VqlXJvVsvyENjR8Vn3bmmA/8DGsH0NlEB8ZlCPuM2eI0iIUZTT4+AsWS1E+2YMB3EmAJIN471IUiMub761a+a45IDspKg68tECt5Nupp075HtFktNxu0bb7zRegm8N+NXJnWqnagnZggiAlgqSCwVkApFV4xxIVWErilC3WzXlKB7l8uMzakRZjapFMwcstyDlJfXpJK2bdt2h65vPhjDUr0YR/J+jImpvJmqew9yYBo5DNl0K9M9D6ow3Wq6z7wWQWVbfeXz2+QrI9Rk3Ka6YsimYtJ9Z7xdX5NZMRP97CgtKyfVY+mCAlZwqgbXhqClx+3JwZme7od8ZmwqOwc14z4mc6iuHgJ99tln26kEfwHSQqC7x4QN4zzej64h49JcsH6Ej0kbxn5p2D4meBgr8lo0BlxchXOnNIhMAnFdCyZztmzZYs+pybjtu9fsL64XwaRRvvWrFnSeMA8Eq74N3IyXqD5cOSlXBRMNhwZ/njBdXepCpRu4RWXQoCuhDNwidhr8x9aEiB19bE2ICFAIhQiMQihEYBRCIQKjEAoRGIVQiMAohEIERiEUIjAKoRCB0SdmCgA9Q5cuXbJ+XYlvdyxfvnwnDYYQhaCPrRUAVrLBgwebqiEXfL+O78fxNR0haoM+tlYAfMGWWzb4rh/fx+N7gXxQnC/5ClFbFMIiQdOAwElBFHVFISwBS5curfog4kHFBFBK0H94dQZfdubb+pgMvvnNb5pao1h4bd4jNAphiUgH0btksoFPFCUggiXo06ePmzRpkqko/N+YqnM9v1AIBMEoJRy0w4YNM1nTLbfc4q6++mrzyZQD9s+oUaMsfHhosA1geEN9edttt5VErIVmg9fDNBcShbAIECEh9SVU3E466SRbhgiYWzaQRDHLig4QcLUg6UWQBDhXkUCl3SyF4H2fHLTlAocq64niEW8oLlIaDZSJpQZp1fjx482458fkGzdutEkwZFt1IXMfoS655JJL7HVDEp2BOzawfuOpIVyFsnnzZlPRp+1lHpyiCG/5iT6DUx+bNm2yYCJCQgOIMRsnZy6bNTJeLN9UVWZtES1hymYml8dxoGJqI9B4dhBJUVmZRGJ7kPYOGjTIns+BiUsH23faHJ55XQmeT+Bwk3KdChSJNBY4UZEeU628ZZsKg6iZ10T2iyaS4BBW7NtIrGiw6FJyaieblRuhMFZytonldBuRSlG1qPDsL+xu2fYR60KFQ6eI8Y2Gg/VlWXofIbFie1nnUERp4G7oUOGwonHw+oODcBAGDlK6fGjuc9msCQMXqeGAuuOOO+zAxKVDl5bqkb6YC+GYMGGCW7ZsmY1T6eIRJA5g5Lt0Kb2iELw5/M4777S/03BZAp7HRWY8iKgYp2GP87D+nDvlAjmEg1B4CzcmcRofqigmN5SMrVq1ymvlpoGaOnWqbdu8efOsy+9hH6FRZJzI9qMx4b3YV1jf2Ea2h31NbyPbPooBhTAAmK/pjlLVcNhQdehycVD67lYumzUHUYcOHezgp5pRTRiHZgPvKUHkWg8ElRDR/UU1yAGJspGq4R083hxeDKw/r0NVnTFjhgWc9wVeG/3jFVdcYUEhPISlrlZu9hH7Cj8tr42akbE5+5f7aMC+8pWvWPX06xAjCmEAqCBUDFpxxoi4PKkQVAW6qFRKyGazpgtJN5exTF3N37hJ/WtSrRAs1wRdSqp2+kMLNBJU5PS1Nai2dKlXrFhhlW3RokXJPc78saw3y+gq81wallJZudmv7DsqJA3L5MmT7f38/owVhTAAVCgOaC7Ism7dOqtSHEB0mxjnQC6bNWMlQshkAubu2oxVgcpB15TAEwDGW4VcuYpuNOuK3Zvns050/QhT2kjH+lGZeTxdwPTl5Ri39u/f37qeVCyqE9tUVys3jReVlXXifah8dLfZJ3yQgq4s4z+uu1ETNB7+yl8MC9gGXjtXL6OUKIQBoEvJgcuN7hfQnaIa+utB5LJZcwBzwGC/ZmKBAHOQcWUoDjpClW+GlPEeEypcro1uIUEvdCaW57KedGMxaLdr186qaPoaFr57yMQL4aJyciAzluVyBhzgPJfJFazfGMnrauWmorI+VHMqHhM6jBmxm7Nf2D56DvxOg5dvHzFBcs4551gVZfvQ/F900UXW9S83+uxoDVAl+OxoIa2ph4OcSY9KlQcz+5p5+TYmXxhzidKiD3AXQDWGUNQf+gB3ATAhwa028Hi6lkIUgiphAXCOjO6ZvyJtPpitpOvGCXshakLdUSECo+6oEBGgEAoRGIVQiMAohEIERiEUIjAKoRBBce7/IKhvsibMtsQAAAAASUVORK5CYII=)"
      ],
      "metadata": {
        "id": "Ht0iZVoNvLrm"
      }
    }
  ]
}